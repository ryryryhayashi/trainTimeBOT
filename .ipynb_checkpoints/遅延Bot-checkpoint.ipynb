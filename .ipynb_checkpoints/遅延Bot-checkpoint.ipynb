{
 "cells": [
  {
   "cell_type": "code",
   "execution_count": 30,
   "id": "least-mitchell",
   "metadata": {},
   "outputs": [
    {
     "name": "stdout",
     "output_type": "stream",
     "text": [
      "Requirement already satisfied: line-bot-sdk in c:\\users\\user\\appdata\\local\\programs\\python\\python39\\lib\\site-packages (1.19.0)\n",
      "Requirement already satisfied: requests>=2.0 in c:\\users\\user\\appdata\\local\\programs\\python\\python39\\lib\\site-packages (from line-bot-sdk) (2.25.1)\n",
      "Requirement already satisfied: future in c:\\users\\user\\appdata\\local\\programs\\python\\python39\\lib\\site-packages (from line-bot-sdk) (0.18.2)\n",
      "Requirement already satisfied: urllib3<1.27,>=1.21.1 in c:\\users\\user\\appdata\\local\\programs\\python\\python39\\lib\\site-packages (from requests>=2.0->line-bot-sdk) (1.26.3)\n",
      "Requirement already satisfied: chardet<5,>=3.0.2 in c:\\users\\user\\appdata\\local\\programs\\python\\python39\\lib\\site-packages (from requests>=2.0->line-bot-sdk) (4.0.0)\n",
      "Requirement already satisfied: certifi>=2017.4.17 in c:\\users\\user\\appdata\\local\\programs\\python\\python39\\lib\\site-packages (from requests>=2.0->line-bot-sdk) (2020.12.5)\n",
      "Requirement already satisfied: idna<3,>=2.5 in c:\\users\\user\\appdata\\local\\programs\\python\\python39\\lib\\site-packages (from requests>=2.0->line-bot-sdk) (2.10)\n"
     ]
    }
   ],
   "source": [
    "!pip install line-bot-sdk"
   ]
  },
  {
   "cell_type": "code",
   "execution_count": 31,
   "id": "responsible-policy",
   "metadata": {},
   "outputs": [],
   "source": [
    "import json\n",
    "import requests\n",
    "import datetime\n",
    "from bs4 import BeautifulSoup\n",
    "import urllib.request as req"
   ]
  },
  {
   "cell_type": "code",
   "execution_count": 32,
   "id": "armed-cardiff",
   "metadata": {},
   "outputs": [],
   "source": [
    "file = open('info.json', 'r') #jsonファイルの読み込み(json形式ではない)\n",
    "info = json.load(file) #json形式で読み込み(json形式に直す)"
   ]
  },
  {
   "cell_type": "code",
   "execution_count": 33,
   "id": "incorporated-payroll",
   "metadata": {},
   "outputs": [
    {
     "data": {
      "text/plain": [
       "'mLEhQzw+ysnTpdLuj3ngyxvnbbJIKL7S2aErslAsHyHgTYP1k8W7poWjeNmv50elz8pwo9IwTT6mvBj/fKsfe83lNZX8oaziTbIErxuq5t89GpSCZrRUxjF7BylPM9duUJI0AuAUEfjmhysT/9Ms7gdB04t89/1O/w1cDnyilFU='"
      ]
     },
     "execution_count": 33,
     "metadata": {},
     "output_type": "execute_result"
    }
   ],
   "source": [
    "info['CHANNEL_ACCES_TOKEN']"
   ]
  },
  {
   "cell_type": "code",
   "execution_count": 34,
   "id": "spectacular-spiritual",
   "metadata": {},
   "outputs": [],
   "source": [
    "from linebot import LineBotApi #LineBot作成用\n",
    "from linebot.models import TextSendMessage"
   ]
  },
  {
   "cell_type": "code",
   "execution_count": 35,
   "id": "raising-processor",
   "metadata": {},
   "outputs": [],
   "source": [
    "CHANNEL_ACCES_TOKEN = info['CHANNEL_ACCES_TOKEN'] #トークンを変数で定義\n",
    "line_bot_api = LineBotApi(CHANNEL_ACCES_TOKEN) #インスタンス化"
   ]
  },
  {
   "cell_type": "code",
   "execution_count": 36,
   "id": "increased-plain",
   "metadata": {},
   "outputs": [
    {
     "name": "stdout",
     "output_type": "stream",
     "text": [
      "遅れの情報はありません。新型コロナに伴う運休\n"
     ]
    }
   ],
   "source": [
    "def main():\n",
    "    USER_ID = info['USER_ID'] #IDを変数に代入\n",
    "    url = \"https://trafficinfo.westjr.co.jp/sp/chugoku.html\"\n",
    "    trainTime = getTrain()\n",
    "    messages = TextSendMessage(text='【～山陰本線の運行状況～】\\n\\n' + trainTime + url)\n",
    "    line_bot_api.push_message(USER_ID, messages=messages) #メッセージ送信\n",
    "\n",
    "if __name__ == \"__main__\":\n",
    "    main()"
   ]
  },
  {
   "cell_type": "code",
   "execution_count": 37,
   "id": "partial-corner",
   "metadata": {},
   "outputs": [],
   "source": [
    "def getTrain():\n",
    "    # 運行状況を取得する\n",
    "    url = \"https://trafficinfo.westjr.co.jp/sp/chugoku.html\"\n",
    "    response = req.urlopen(url)\n",
    "    parse_html = BeautifulSoup(response, 'html.parser')\n",
    "    ul_lists=parse_html.find_all(class_=\"unko_status\")\n",
    "    ul_list=[]\n",
    "    for i in ul_lists:\n",
    "        ul_list.append(i.text)\n",
    "    print(ul_list[2])\n",
    "    return ul_list[2][0:12]"
   ]
  },
  {
   "cell_type": "code",
   "execution_count": null,
   "id": "agricultural-partnership",
   "metadata": {},
   "outputs": [],
   "source": []
  },
  {
   "cell_type": "code",
   "execution_count": null,
   "id": "administrative-steel",
   "metadata": {},
   "outputs": [],
   "source": []
  },
  {
   "cell_type": "code",
   "execution_count": null,
   "id": "following-amino",
   "metadata": {},
   "outputs": [],
   "source": []
  },
  {
   "cell_type": "code",
   "execution_count": null,
   "id": "vital-fortune",
   "metadata": {},
   "outputs": [],
   "source": []
  }
 ],
 "metadata": {
  "kernelspec": {
   "display_name": "Python 3",
   "language": "python",
   "name": "python3"
  },
  "language_info": {
   "codemirror_mode": {
    "name": "ipython",
    "version": 3
   },
   "file_extension": ".py",
   "mimetype": "text/x-python",
   "name": "python",
   "nbconvert_exporter": "python",
   "pygments_lexer": "ipython3",
   "version": "3.9.2"
  }
 },
 "nbformat": 4,
 "nbformat_minor": 5
}
