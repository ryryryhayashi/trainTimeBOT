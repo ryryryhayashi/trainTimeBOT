{
 "cells": [
  {
   "cell_type": "code",
   "execution_count": 1,
   "id": "moved-seven",
   "metadata": {},
   "outputs": [],
   "source": [
    "import requests\n",
    "import datetime\n",
    "from bs4 import BeautifulSoup\n",
    "import urllib.request as req"
   ]
  },
  {
   "cell_type": "code",
   "execution_count": null,
   "id": "universal-glass",
   "metadata": {},
   "outputs": [],
   "source": []
  },
  {
   "cell_type": "code",
   "execution_count": 2,
   "id": "sustained-blake",
   "metadata": {},
   "outputs": [],
   "source": [
    "# メイン処理\n",
    "def main():\n",
    "   \n",
    "    # 送る内容\n",
    "    time = getTrain()\n",
    "    postTrain(time)\n"
   ]
  },
  {
   "cell_type": "code",
   "execution_count": 3,
   "id": "decreased-curtis",
   "metadata": {},
   "outputs": [],
   "source": [
    "# 遅延情報を送信する関数\n",
    "def postTrain(tm):\n",
    "     # 取得したトークン\n",
    "    TOKEN = 'C6RQzXE3kVrCPUMVxjR8kPKhVVD43LTB0E6WrkMufLm'\n",
    "    # APIのURL\n",
    "    api_url = 'https://notify-api.line.me/api/notify'\n",
    "    train_url = 'https://trafficinfo.westjr.co.jp/sp/chugoku.html'\n",
    "    time = tm\n",
    "    send_contents = '【～山陰本線の運行状況～】\\n\\n' + str(time) + train_url\n",
    "    TOKEN_dic = {'Authorization': 'Bearer' + ' ' + TOKEN}\n",
    "    send_dic = {'message': send_contents}\n",
    "    requests.post(api_url, headers=TOKEN_dic, data=send_dic)\n",
    "        "
   ]
  },
  {
   "cell_type": "code",
   "execution_count": 4,
   "id": "utility-unemployment",
   "metadata": {},
   "outputs": [],
   "source": [
    "def getTrain():\n",
    "    # 運行状況を取得する\n",
    "    url = \"https://trafficinfo.westjr.co.jp/sp/chugoku.html\"\n",
    "    response = req.urlopen(url)\n",
    "    parse_html = BeautifulSoup(response, 'html.parser')\n",
    "    ul_lists=parse_html.find_all(class_=\"unko_status\")\n",
    "    ul_list=[]\n",
    "    for i in ul_lists:\n",
    "        ul_list.append(i.text)\n",
    "    print(ul_list[2])\n",
    "    return ul_list[2][0:12]"
   ]
  },
  {
   "cell_type": "code",
   "execution_count": 5,
   "id": "upper-given",
   "metadata": {},
   "outputs": [
    {
     "name": "stdout",
     "output_type": "stream",
     "text": [
      "遅れの情報はありません。新型コロナに伴う運休\n"
     ]
    }
   ],
   "source": [
    "main()"
   ]
  },
  {
   "cell_type": "code",
   "execution_count": 6,
   "id": "selective-thompson",
   "metadata": {},
   "outputs": [],
   "source": [
    "if __name__ == \"main\":\n",
    "    main()"
   ]
  },
  {
   "cell_type": "markdown",
   "id": "flush-reaction",
   "metadata": {},
   "source": [
    "<!-- # 遅延情報を送信する関数\n",
    "def postTrain(tm):\n",
    "     # 取得したトークン\n",
    "    TOKEN = 'C6RQzXE3kVrCPUMVxjR8kPKhVVD43LTB0E6WrkMufLm'\n",
    "    # APIのURL\n",
    "    api_url = 'https://notify-api.line.me/api/notify'\n",
    "    train_url = 'https://trafficinfo.westjr.co.jp/sp/chugoku.html'\n",
    "    time = tm\n",
    "    send_contents = '【～山陰本線の運行状況～】\\n' + str(time) + train_url\n",
    "    TOKEN_dic = {'Authorization': 'Bearer' + ' ' + TOKEN}\n",
    "    image_file = './line_Neko.jpg'\n",
    "    send_dic = {'message': send_contents}\n",
    "    binary = open(image_file, mode='rb')\n",
    "    image_dic = {'imageFile': binary}\n",
    "    requests.post(api_url, headers=TOKEN_dic, data=send_dic) -->"
   ]
  }
 ],
 "metadata": {
  "kernelspec": {
   "display_name": "Python 3",
   "language": "python",
   "name": "python3"
  },
  "language_info": {
   "codemirror_mode": {
    "name": "ipython",
    "version": 3
   },
   "file_extension": ".py",
   "mimetype": "text/x-python",
   "name": "python",
   "nbconvert_exporter": "python",
   "pygments_lexer": "ipython3",
   "version": "3.9.2"
  }
 },
 "nbformat": 4,
 "nbformat_minor": 5
}
