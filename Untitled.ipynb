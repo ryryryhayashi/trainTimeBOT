{
 "cells": [
  {
   "cell_type": "code",
   "execution_count": 1,
   "id": "united-leonard",
   "metadata": {},
   "outputs": [
    {
     "name": "stdout",
     "output_type": "stream",
     "text": [
      "Requirement already satisfied: jupyter-console in c:\\users\\user\\appdata\\local\\programs\\python\\python39\\lib\\site-packages (6.2.0)\n",
      "Requirement already satisfied: prompt-toolkit!=3.0.0,!=3.0.1,<3.1.0,>=2.0.0 in c:\\users\\user\\appdata\\local\\programs\\python\\python39\\lib\\site-packages (from jupyter-console) (3.0.16)\n",
      "Requirement already satisfied: ipykernel in c:\\users\\user\\appdata\\local\\programs\\python\\python39\\lib\\site-packages (from jupyter-console) (5.5.0)\n",
      "Requirement already satisfied: jupyter-client in c:\\users\\user\\appdata\\local\\programs\\python\\python39\\lib\\site-packages (from jupyter-console) (6.1.11)\n",
      "Requirement already satisfied: pygments in c:\\users\\user\\appdata\\local\\programs\\python\\python39\\lib\\site-packages (from jupyter-console) (2.8.0)\n",
      "Requirement already satisfied: ipython in c:\\users\\user\\appdata\\local\\programs\\python\\python39\\lib\\site-packages (from jupyter-console) (7.21.0)\n",
      "Requirement already satisfied: wcwidth in c:\\users\\user\\appdata\\local\\programs\\python\\python39\\lib\\site-packages (from prompt-toolkit!=3.0.0,!=3.0.1,<3.1.0,>=2.0.0->jupyter-console) (0.2.5)\n",
      "Requirement already satisfied: traitlets>=4.1.0 in c:\\users\\user\\appdata\\local\\programs\\python\\python39\\lib\\site-packages (from ipykernel->jupyter-console) (5.0.5)\n",
      "Requirement already satisfied: tornado>=4.2 in c:\\users\\user\\appdata\\local\\programs\\python\\python39\\lib\\site-packages (from ipykernel->jupyter-console) (6.1)\n",
      "Requirement already satisfied: setuptools>=18.5 in c:\\users\\user\\appdata\\local\\programs\\python\\python39\\lib\\site-packages (from ipython->jupyter-console) (49.2.1)\n",
      "Requirement already satisfied: colorama in c:\\users\\user\\appdata\\roaming\\python\\python39\\site-packages (from ipython->jupyter-console) (0.4.4)\n",
      "Requirement already satisfied: backcall in c:\\users\\user\\appdata\\local\\programs\\python\\python39\\lib\\site-packages (from ipython->jupyter-console) (0.2.0)\n",
      "Requirement already satisfied: jedi>=0.16 in c:\\users\\user\\appdata\\local\\programs\\python\\python39\\lib\\site-packages (from ipython->jupyter-console) (0.18.0)\n",
      "Requirement already satisfied: decorator in c:\\users\\user\\appdata\\local\\programs\\python\\python39\\lib\\site-packages (from ipython->jupyter-console) (4.4.2)\n",
      "Requirement already satisfied: pickleshare in c:\\users\\user\\appdata\\local\\programs\\python\\python39\\lib\\site-packages (from ipython->jupyter-console) (0.7.5)\n",
      "Requirement already satisfied: parso<0.9.0,>=0.8.0 in c:\\users\\user\\appdata\\local\\programs\\python\\python39\\lib\\site-packages (from jedi>=0.16->ipython->jupyter-console) (0.8.1)\n",
      "Requirement already satisfied: ipython-genutils in c:\\users\\user\\appdata\\local\\programs\\python\\python39\\lib\\site-packages (from traitlets>=4.1.0->ipykernel->jupyter-console) (0.2.0)\n",
      "Requirement already satisfied: pyzmq>=13 in c:\\users\\user\\appdata\\local\\programs\\python\\python39\\lib\\site-packages (from jupyter-client->jupyter-console) (22.0.3)\n",
      "Requirement already satisfied: python-dateutil>=2.1 in c:\\users\\user\\appdata\\local\\programs\\python\\python39\\lib\\site-packages (from jupyter-client->jupyter-console) (2.8.1)\n",
      "Requirement already satisfied: jupyter-core>=4.6.0 in c:\\users\\user\\appdata\\local\\programs\\python\\python39\\lib\\site-packages (from jupyter-client->jupyter-console) (4.7.1)\n",
      "Requirement already satisfied: pywin32>=1.0 in c:\\users\\user\\appdata\\local\\programs\\python\\python39\\lib\\site-packages (from jupyter-core>=4.6.0->jupyter-client->jupyter-console) (300)\n",
      "Requirement already satisfied: six>=1.5 in c:\\users\\user\\appdata\\local\\programs\\python\\python39\\lib\\site-packages (from python-dateutil>=2.1->jupyter-client->jupyter-console) (1.15.0)\n",
      "Note: you may need to restart the kernel to use updated packages.\n"
     ]
    }
   ],
   "source": [
    "pip install jupyter-console"
   ]
  },
  {
   "cell_type": "code",
   "execution_count": null,
   "id": "asian-anatomy",
   "metadata": {},
   "outputs": [],
   "source": []
  }
 ],
 "metadata": {
  "kernelspec": {
   "display_name": "Python 3",
   "language": "python",
   "name": "python3"
  },
  "language_info": {
   "codemirror_mode": {
    "name": "ipython",
    "version": 3
   },
   "file_extension": ".py",
   "mimetype": "text/x-python",
   "name": "python",
   "nbconvert_exporter": "python",
   "pygments_lexer": "ipython3",
   "version": "3.9.2"
  }
 },
 "nbformat": 4,
 "nbformat_minor": 5
}
